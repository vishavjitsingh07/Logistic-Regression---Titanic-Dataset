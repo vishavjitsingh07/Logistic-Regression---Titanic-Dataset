{
 "cells": [
  {
   "cell_type": "code",
   "execution_count": 1,
   "metadata": {},
   "outputs": [],
   "source": [
    "from sklearn.linear_model import LogisticRegression as LR\n",
    "import numpy as np\n",
    "import pandas as pd"
   ]
  },
  {
   "cell_type": "code",
   "execution_count": 2,
   "metadata": {},
   "outputs": [
    {
     "data": {
      "text/html": [
       "<img src=\"https://static1.squarespace.com/static/5006453fe4b09ef2252ba068/5095eabce4b06cb305058603/5095eabce4b02d37bef4c24c/1352002236895/100_anniversary_titanic_sinking_by_esai8mellows-d4xbme8.jpg\"/>"
      ],
      "text/plain": [
       "<IPython.core.display.Image object>"
      ]
     },
     "execution_count": 2,
     "metadata": {},
     "output_type": "execute_result"
    }
   ],
   "source": [
    "from IPython.display import Image\n",
    "Image(url= \"https://static1.squarespace.com/static/5006453fe4b09ef2252ba068/5095eabce4b06cb305058603/5095eabce4b02d37bef4c24c/1352002236895/100_anniversary_titanic_sinking_by_esai8mellows-d4xbme8.jpg\")"
   ]
  },
  {
   "cell_type": "code",
   "execution_count": 3,
   "metadata": {},
   "outputs": [],
   "source": [
    "data = pd.read_csv(\"titanic_train.csv\")"
   ]
  },
  {
   "cell_type": "code",
   "execution_count": 4,
   "metadata": {},
   "outputs": [
    {
     "data": {
      "text/html": [
       "<div>\n",
       "<style scoped>\n",
       "    .dataframe tbody tr th:only-of-type {\n",
       "        vertical-align: middle;\n",
       "    }\n",
       "\n",
       "    .dataframe tbody tr th {\n",
       "        vertical-align: top;\n",
       "    }\n",
       "\n",
       "    .dataframe thead th {\n",
       "        text-align: right;\n",
       "    }\n",
       "</style>\n",
       "<table border=\"1\" class=\"dataframe\">\n",
       "  <thead>\n",
       "    <tr style=\"text-align: right;\">\n",
       "      <th></th>\n",
       "      <th>Pclass</th>\n",
       "      <th>Name</th>\n",
       "      <th>Sex</th>\n",
       "      <th>Age</th>\n",
       "      <th>SibSp</th>\n",
       "      <th>Parch</th>\n",
       "      <th>Ticket</th>\n",
       "      <th>Fare</th>\n",
       "      <th>Cabin</th>\n",
       "      <th>Embarked</th>\n",
       "      <th>Survived</th>\n",
       "    </tr>\n",
       "  </thead>\n",
       "  <tbody>\n",
       "    <tr>\n",
       "      <th>0</th>\n",
       "      <td>2</td>\n",
       "      <td>Weisz, Mrs. Leopold (Mathilde Francoise Pede)</td>\n",
       "      <td>female</td>\n",
       "      <td>29.0</td>\n",
       "      <td>1</td>\n",
       "      <td>0</td>\n",
       "      <td>228414</td>\n",
       "      <td>26.000</td>\n",
       "      <td>NaN</td>\n",
       "      <td>S</td>\n",
       "      <td>1</td>\n",
       "    </tr>\n",
       "    <tr>\n",
       "      <th>1</th>\n",
       "      <td>3</td>\n",
       "      <td>Williams, Mr. Howard Hugh \"Harry\"</td>\n",
       "      <td>male</td>\n",
       "      <td>NaN</td>\n",
       "      <td>0</td>\n",
       "      <td>0</td>\n",
       "      <td>A/5 2466</td>\n",
       "      <td>8.050</td>\n",
       "      <td>NaN</td>\n",
       "      <td>S</td>\n",
       "      <td>0</td>\n",
       "    </tr>\n",
       "    <tr>\n",
       "      <th>2</th>\n",
       "      <td>2</td>\n",
       "      <td>Morley, Mr. Henry Samuel (\"Mr Henry Marshall\")</td>\n",
       "      <td>male</td>\n",
       "      <td>39.0</td>\n",
       "      <td>0</td>\n",
       "      <td>0</td>\n",
       "      <td>250655</td>\n",
       "      <td>26.000</td>\n",
       "      <td>NaN</td>\n",
       "      <td>S</td>\n",
       "      <td>0</td>\n",
       "    </tr>\n",
       "    <tr>\n",
       "      <th>3</th>\n",
       "      <td>3</td>\n",
       "      <td>Palsson, Mrs. Nils (Alma Cornelia Berglund)</td>\n",
       "      <td>female</td>\n",
       "      <td>29.0</td>\n",
       "      <td>0</td>\n",
       "      <td>4</td>\n",
       "      <td>349909</td>\n",
       "      <td>21.075</td>\n",
       "      <td>NaN</td>\n",
       "      <td>S</td>\n",
       "      <td>0</td>\n",
       "    </tr>\n",
       "    <tr>\n",
       "      <th>4</th>\n",
       "      <td>3</td>\n",
       "      <td>Sutehall, Mr. Henry Jr</td>\n",
       "      <td>male</td>\n",
       "      <td>25.0</td>\n",
       "      <td>0</td>\n",
       "      <td>0</td>\n",
       "      <td>SOTON/OQ 392076</td>\n",
       "      <td>7.050</td>\n",
       "      <td>NaN</td>\n",
       "      <td>S</td>\n",
       "      <td>0</td>\n",
       "    </tr>\n",
       "  </tbody>\n",
       "</table>\n",
       "</div>"
      ],
      "text/plain": [
       "   Pclass                                            Name     Sex   Age  \\\n",
       "0       2   Weisz, Mrs. Leopold (Mathilde Francoise Pede)  female  29.0   \n",
       "1       3               Williams, Mr. Howard Hugh \"Harry\"    male   NaN   \n",
       "2       2  Morley, Mr. Henry Samuel (\"Mr Henry Marshall\")    male  39.0   \n",
       "3       3     Palsson, Mrs. Nils (Alma Cornelia Berglund)  female  29.0   \n",
       "4       3                          Sutehall, Mr. Henry Jr    male  25.0   \n",
       "\n",
       "   SibSp  Parch           Ticket    Fare Cabin Embarked  Survived  \n",
       "0      1      0           228414  26.000   NaN        S         1  \n",
       "1      0      0         A/5 2466   8.050   NaN        S         0  \n",
       "2      0      0           250655  26.000   NaN        S         0  \n",
       "3      0      4           349909  21.075   NaN        S         0  \n",
       "4      0      0  SOTON/OQ 392076   7.050   NaN        S         0  "
      ]
     },
     "execution_count": 4,
     "metadata": {},
     "output_type": "execute_result"
    }
   ],
   "source": [
    "data.head(5)"
   ]
  },
  {
   "cell_type": "code",
   "execution_count": 5,
   "metadata": {},
   "outputs": [],
   "source": [
    "def Sex(string):\n",
    "    if string == \"male\":\n",
    "        return 0\n",
    "    else:\n",
    "        return 1"
   ]
  },
  {
   "cell_type": "code",
   "execution_count": 6,
   "metadata": {},
   "outputs": [],
   "source": [
    "def Age(age):\n",
    "    age = str(age)\n",
    "    if age != \"nan\":\n",
    "        return int(float(age))\n",
    "    else:\n",
    "        return 0"
   ]
  },
  {
   "cell_type": "code",
   "execution_count": 7,
   "metadata": {},
   "outputs": [],
   "source": [
    "def Cabin(cabin):\n",
    "    cabin = str(cabin)\n",
    "    if cabin != \"nan\":\n",
    "        return 1\n",
    "    else:\n",
    "        return 0"
   ]
  },
  {
   "cell_type": "code",
   "execution_count": 8,
   "metadata": {},
   "outputs": [],
   "source": [
    "def Embarked(emb):\n",
    "    emb = str(emb)\n",
    "    if emb == \"C\":\n",
    "        return 1\n",
    "    elif emb == \"Q\":\n",
    "        return 2\n",
    "    elif emb == \"S\":\n",
    "        return 3\n",
    "    else:\n",
    "        return 0"
   ]
  },
  {
   "cell_type": "code",
   "execution_count": 9,
   "metadata": {},
   "outputs": [],
   "source": [
    "def change_dtype(datatype):\n",
    "    datatype = str(datatype)\n",
    "    if datatype != \"nan\":\n",
    "        return int(float(datatype))\n",
    "    else:\n",
    "        return 0"
   ]
  },
  {
   "cell_type": "code",
   "execution_count": 10,
   "metadata": {
    "scrolled": true
   },
   "outputs": [],
   "source": [
    "new_data = pd.DataFrame()\n",
    "new_data[\"Age\"] = data[\"Age\"].apply(Age)\n",
    "new_data[\"Sex\"] = data[\"Sex\"].apply(Sex)\n",
    "new_data[\"SibSp\"] = data[\"SibSp\"].apply(change_dtype)\n",
    "new_data[\"Parch\"] = data[\"Parch\"].apply(change_dtype)\n",
    "new_data[\"Fare\"] = data[\"Fare\"].apply(change_dtype)\n",
    "new_data[\"Cabin\"] = data[\"Cabin\"].apply(Cabin)\n",
    "new_data[\"Embarked\"] = data[\"Embarked\"].apply(Embarked)\n",
    "new_data[\"Age_Age\"] = new_data[\"Age\"]*new_data[\"Age\"]\n",
    "new_data[\"Cabin_Embarked\"] = new_data[\"Cabin\"]*new_data[\"Embarked\"]"
   ]
  },
  {
   "cell_type": "code",
   "execution_count": 11,
   "metadata": {},
   "outputs": [
    {
     "data": {
      "text/html": [
       "<div>\n",
       "<style scoped>\n",
       "    .dataframe tbody tr th:only-of-type {\n",
       "        vertical-align: middle;\n",
       "    }\n",
       "\n",
       "    .dataframe tbody tr th {\n",
       "        vertical-align: top;\n",
       "    }\n",
       "\n",
       "    .dataframe thead th {\n",
       "        text-align: right;\n",
       "    }\n",
       "</style>\n",
       "<table border=\"1\" class=\"dataframe\">\n",
       "  <thead>\n",
       "    <tr style=\"text-align: right;\">\n",
       "      <th></th>\n",
       "      <th>Age</th>\n",
       "      <th>Sex</th>\n",
       "      <th>SibSp</th>\n",
       "      <th>Parch</th>\n",
       "      <th>Fare</th>\n",
       "      <th>Cabin</th>\n",
       "      <th>Embarked</th>\n",
       "      <th>Age_Age</th>\n",
       "      <th>Cabin_Embarked</th>\n",
       "    </tr>\n",
       "  </thead>\n",
       "  <tbody>\n",
       "    <tr>\n",
       "      <th>0</th>\n",
       "      <td>29</td>\n",
       "      <td>1</td>\n",
       "      <td>1</td>\n",
       "      <td>0</td>\n",
       "      <td>26</td>\n",
       "      <td>0</td>\n",
       "      <td>3</td>\n",
       "      <td>841</td>\n",
       "      <td>0</td>\n",
       "    </tr>\n",
       "    <tr>\n",
       "      <th>1</th>\n",
       "      <td>0</td>\n",
       "      <td>0</td>\n",
       "      <td>0</td>\n",
       "      <td>0</td>\n",
       "      <td>8</td>\n",
       "      <td>0</td>\n",
       "      <td>3</td>\n",
       "      <td>0</td>\n",
       "      <td>0</td>\n",
       "    </tr>\n",
       "    <tr>\n",
       "      <th>2</th>\n",
       "      <td>39</td>\n",
       "      <td>0</td>\n",
       "      <td>0</td>\n",
       "      <td>0</td>\n",
       "      <td>26</td>\n",
       "      <td>0</td>\n",
       "      <td>3</td>\n",
       "      <td>1521</td>\n",
       "      <td>0</td>\n",
       "    </tr>\n",
       "    <tr>\n",
       "      <th>3</th>\n",
       "      <td>29</td>\n",
       "      <td>1</td>\n",
       "      <td>0</td>\n",
       "      <td>4</td>\n",
       "      <td>21</td>\n",
       "      <td>0</td>\n",
       "      <td>3</td>\n",
       "      <td>841</td>\n",
       "      <td>0</td>\n",
       "    </tr>\n",
       "    <tr>\n",
       "      <th>4</th>\n",
       "      <td>25</td>\n",
       "      <td>0</td>\n",
       "      <td>0</td>\n",
       "      <td>0</td>\n",
       "      <td>7</td>\n",
       "      <td>0</td>\n",
       "      <td>3</td>\n",
       "      <td>625</td>\n",
       "      <td>0</td>\n",
       "    </tr>\n",
       "  </tbody>\n",
       "</table>\n",
       "</div>"
      ],
      "text/plain": [
       "   Age  Sex  SibSp  Parch  Fare  Cabin  Embarked  Age_Age  Cabin_Embarked\n",
       "0   29    1      1      0    26      0         3      841               0\n",
       "1    0    0      0      0     8      0         3        0               0\n",
       "2   39    0      0      0    26      0         3     1521               0\n",
       "3   29    1      0      4    21      0         3      841               0\n",
       "4   25    0      0      0     7      0         3      625               0"
      ]
     },
     "execution_count": 11,
     "metadata": {},
     "output_type": "execute_result"
    }
   ],
   "source": [
    "new_data.head(5)"
   ]
  },
  {
   "cell_type": "code",
   "execution_count": 12,
   "metadata": {},
   "outputs": [],
   "source": [
    "x_train = np.array(new_data)\n",
    "y_train = np.array(data[\"Survived\"])"
   ]
  },
  {
   "cell_type": "code",
   "execution_count": 13,
   "metadata": {},
   "outputs": [
    {
     "name": "stderr",
     "output_type": "stream",
     "text": [
      "C:\\Users\\DAVKAUR\\Anaconda3\\lib\\site-packages\\sklearn\\linear_model\\_logistic.py:762: ConvergenceWarning: lbfgs failed to converge (status=1):\n",
      "STOP: TOTAL NO. of ITERATIONS REACHED LIMIT.\n",
      "\n",
      "Increase the number of iterations (max_iter) or scale the data as shown in:\n",
      "    https://scikit-learn.org/stable/modules/preprocessing.html\n",
      "Please also refer to the documentation for alternative solver options:\n",
      "    https://scikit-learn.org/stable/modules/linear_model.html#logistic-regression\n",
      "  n_iter_i = _check_optimize_result(\n"
     ]
    },
    {
     "data": {
      "text/plain": [
       "LogisticRegression()"
      ]
     },
     "execution_count": 13,
     "metadata": {},
     "output_type": "execute_result"
    }
   ],
   "source": [
    "model = LR()\n",
    "model.fit(x_train, y_train)"
   ]
  },
  {
   "cell_type": "code",
   "execution_count": 14,
   "metadata": {},
   "outputs": [
    {
     "data": {
      "text/plain": [
       "0.7889221556886228"
      ]
     },
     "execution_count": 14,
     "metadata": {},
     "output_type": "execute_result"
    }
   ],
   "source": [
    "model.score(x_train, y_train)"
   ]
  },
  {
   "cell_type": "code",
   "execution_count": 15,
   "metadata": {},
   "outputs": [],
   "source": [
    "test_data = pd.read_csv(\"titanic_test.csv\")"
   ]
  },
  {
   "cell_type": "code",
   "execution_count": 16,
   "metadata": {},
   "outputs": [],
   "source": [
    "x_test = pd.DataFrame()\n",
    "x_test[\"Age\"] = test_data[\"Age\"].apply(Age)\n",
    "x_test[\"Sex\"] = test_data[\"Sex\"].apply(Sex)\n",
    "x_test[\"SibSp\"] = test_data[\"SibSp\"].apply(change_dtype)\n",
    "x_test[\"Parch\"] = test_data[\"Parch\"].apply(change_dtype)\n",
    "x_test[\"Fare\"] = test_data[\"Fare\"].apply(change_dtype)\n",
    "x_test[\"Cabin\"] = test_data[\"Cabin\"].apply(Cabin)\n",
    "x_test[\"Embarked\"] = test_data[\"Embarked\"].apply(Embarked)\n",
    "x_test[\"Age_Age\"] = x_test[\"Age\"]*x_test[\"Age\"]\n",
    "#x_test[\"Sex_SibSp\"] = x_test[\"Sex\"]*x_test[\"SibSp\"]\n",
    "#x_test[\"Sex_Parch\"] = x_test[\"Sex\"]*x_test[\"Parch\"]\n",
    "#x_test[\"SibSp_Parch\"] = x_test[\"SibSp\"]*x_test[\"Parch\"]\n",
    "x_test[\"Cabin_Embarked\"] = x_test[\"Cabin\"]*x_test[\"Embarked\"]"
   ]
  },
  {
   "cell_type": "code",
   "execution_count": 17,
   "metadata": {},
   "outputs": [
    {
     "data": {
      "text/plain": [
       "0.7889221556886228"
      ]
     },
     "execution_count": 17,
     "metadata": {},
     "output_type": "execute_result"
    }
   ],
   "source": [
    "x_test_array = np.array(x_test)\n",
    "y_predict = model.predict(x_test_array)\n",
    "model.score(x_train, y_train)"
   ]
  },
  {
   "cell_type": "code",
   "execution_count": 18,
   "metadata": {},
   "outputs": [
    {
     "data": {
      "text/plain": [
       "array([[0.86477267, 0.13522733],\n",
       "       [0.11628587, 0.88371413],\n",
       "       [0.74311895, 0.25688105],\n",
       "       [0.46854798, 0.53145202],\n",
       "       [0.54846982, 0.45153018],\n",
       "       [0.82027225, 0.17972775],\n",
       "       [0.82777342, 0.17222658],\n",
       "       [0.74311895, 0.25688105],\n",
       "       [0.2947498 , 0.7052502 ],\n",
       "       [0.8180484 , 0.1819516 ],\n",
       "       [0.16291134, 0.83708866],\n",
       "       [0.81880047, 0.18119953],\n",
       "       [0.05811986, 0.94188014],\n",
       "       [0.30480711, 0.69519289],\n",
       "       [0.71075563, 0.28924437],\n",
       "       [0.87229694, 0.12770306],\n",
       "       [0.83463356, 0.16536644],\n",
       "       [0.87732491, 0.12267509],\n",
       "       [0.83670052, 0.16329948],\n",
       "       [0.21192454, 0.78807546],\n",
       "       [0.23598778, 0.76401222],\n",
       "       [0.78754786, 0.21245214],\n",
       "       [0.13873511, 0.86126489],\n",
       "       [0.38162275, 0.61837725],\n",
       "       [0.81880047, 0.18119953],\n",
       "       [0.46024292, 0.53975708],\n",
       "       [0.84385585, 0.15614415],\n",
       "       [0.8817734 , 0.1182266 ],\n",
       "       [0.24520931, 0.75479069],\n",
       "       [0.40014465, 0.59985535],\n",
       "       [0.83395408, 0.16604592],\n",
       "       [0.98276566, 0.01723434],\n",
       "       [0.84262882, 0.15737118],\n",
       "       [0.85136868, 0.14863132],\n",
       "       [0.87295173, 0.12704827],\n",
       "       [0.24280316, 0.75719684],\n",
       "       [0.30381692, 0.69618308],\n",
       "       [0.81516017, 0.18483983],\n",
       "       [0.84584591, 0.15415409],\n",
       "       [0.59847675, 0.40152325],\n",
       "       [0.19677943, 0.80322057],\n",
       "       [0.83670052, 0.16329948],\n",
       "       [0.83604581, 0.16395419],\n",
       "       [0.84584591, 0.15415409],\n",
       "       [0.29941378, 0.70058622],\n",
       "       [0.48070878, 0.51929122],\n",
       "       [0.88613273, 0.11386727],\n",
       "       [0.19677943, 0.80322057],\n",
       "       [0.74375661, 0.25624339],\n",
       "       [0.67967563, 0.32032437],\n",
       "       [0.78061088, 0.21938912],\n",
       "       [0.21254433, 0.78745567],\n",
       "       [0.09898902, 0.90101098],\n",
       "       [0.19868532, 0.80131468],\n",
       "       [0.86015154, 0.13984846],\n",
       "       [0.89807901, 0.10192099],\n",
       "       [0.68234684, 0.31765316],\n",
       "       [0.85575879, 0.14424121],\n",
       "       [0.8901989 , 0.1098011 ],\n",
       "       [0.7293677 , 0.2706323 ],\n",
       "       [0.82962078, 0.17037922],\n",
       "       [0.61948031, 0.38051969],\n",
       "       [0.30661385, 0.69338615],\n",
       "       [0.19677943, 0.80322057],\n",
       "       [0.09156728, 0.90843272],\n",
       "       [0.89611435, 0.10388565],\n",
       "       [0.80805411, 0.19194589],\n",
       "       [0.61166083, 0.38833917],\n",
       "       [0.07941394, 0.92058606],\n",
       "       [0.64926981, 0.35073019],\n",
       "       [0.83400844, 0.16599156],\n",
       "       [0.84751321, 0.15248679],\n",
       "       [0.43895644, 0.56104356],\n",
       "       [0.84620054, 0.15379946],\n",
       "       [0.85209719, 0.14790281],\n",
       "       [0.04574174, 0.95425826],\n",
       "       [0.24729391, 0.75270609],\n",
       "       [0.76305248, 0.23694752],\n",
       "       [0.62586741, 0.37413259],\n",
       "       [0.89050008, 0.10949992],\n",
       "       [0.89282578, 0.10717422],\n",
       "       [0.10221927, 0.89778073],\n",
       "       [0.92188263, 0.07811737],\n",
       "       [0.66575061, 0.33424939],\n",
       "       [0.83568583, 0.16431417],\n",
       "       [0.2702887 , 0.7297113 ],\n",
       "       [0.47430369, 0.52569631],\n",
       "       [0.52452628, 0.47547372],\n",
       "       [0.83670052, 0.16329948],\n",
       "       [0.81880047, 0.18119953],\n",
       "       [0.27676863, 0.72323137],\n",
       "       [0.89909242, 0.10090758],\n",
       "       [0.85095858, 0.14904142],\n",
       "       [0.30949298, 0.69050702],\n",
       "       [0.74311895, 0.25688105],\n",
       "       [0.67823831, 0.32176169],\n",
       "       [0.87881193, 0.12118807],\n",
       "       [0.57597577, 0.42402423],\n",
       "       [0.93701447, 0.06298553],\n",
       "       [0.06995555, 0.93004445],\n",
       "       [0.19677943, 0.80322057],\n",
       "       [0.81729392, 0.18270608],\n",
       "       [0.05511594, 0.94488406],\n",
       "       [0.96248209, 0.03751791],\n",
       "       [0.27691562, 0.72308438],\n",
       "       [0.05691299, 0.94308701],\n",
       "       [0.91609388, 0.08390612],\n",
       "       [0.8543389 , 0.1456611 ],\n",
       "       [0.98276566, 0.01723434],\n",
       "       [0.83600787, 0.16399213],\n",
       "       [0.83150947, 0.16849053],\n",
       "       [0.10664775, 0.89335225],\n",
       "       [0.38048858, 0.61951142],\n",
       "       [0.59698922, 0.40301078],\n",
       "       [0.37317006, 0.62682994],\n",
       "       [0.89255932, 0.10744068],\n",
       "       [0.88582066, 0.11417934],\n",
       "       [0.19677943, 0.80322057],\n",
       "       [0.89030287, 0.10969713],\n",
       "       [0.81880047, 0.18119953],\n",
       "       [0.87562711, 0.12437289],\n",
       "       [0.81880047, 0.18119953],\n",
       "       [0.85454226, 0.14545774],\n",
       "       [0.83673833, 0.16326167],\n",
       "       [0.62242315, 0.37757685],\n",
       "       [0.915566  , 0.084434  ],\n",
       "       [0.91636704, 0.08363296],\n",
       "       [0.90649677, 0.09350323],\n",
       "       [0.96316101, 0.03683899],\n",
       "       [0.46024292, 0.53975708],\n",
       "       [0.87355701, 0.12644299],\n",
       "       [0.83330664, 0.16669336],\n",
       "       [0.76263414, 0.23736586],\n",
       "       [0.83761067, 0.16238933],\n",
       "       [0.84614717, 0.15385283],\n",
       "       [0.81880047, 0.18119953],\n",
       "       [0.24429832, 0.75570168],\n",
       "       [0.46653492, 0.53346508],\n",
       "       [0.2947498 , 0.7052502 ],\n",
       "       [0.62542678, 0.37457322],\n",
       "       [0.64936392, 0.35063608],\n",
       "       [0.84262882, 0.15737118],\n",
       "       [0.56193603, 0.43806397],\n",
       "       [0.87204916, 0.12795084],\n",
       "       [0.7645684 , 0.2354316 ],\n",
       "       [0.83820913, 0.16179087],\n",
       "       [0.8320282 , 0.1679718 ],\n",
       "       [0.85639554, 0.14360446],\n",
       "       [0.19677943, 0.80322057],\n",
       "       [0.11195057, 0.88804943],\n",
       "       [0.01605361, 0.98394639],\n",
       "       [0.83060888, 0.16939112],\n",
       "       [0.6279513 , 0.3720487 ],\n",
       "       [0.83957707, 0.16042293],\n",
       "       [0.27396053, 0.72603947],\n",
       "       [0.69219203, 0.30780797],\n",
       "       [0.64584957, 0.35415043],\n",
       "       [0.34299241, 0.65700759],\n",
       "       [0.8320282 , 0.1679718 ],\n",
       "       [0.88779832, 0.11220168],\n",
       "       [0.8180484 , 0.1819516 ],\n",
       "       [0.31002462, 0.68997538],\n",
       "       [0.41764685, 0.58235315],\n",
       "       [0.19677943, 0.80322057],\n",
       "       [0.0754414 , 0.9245586 ],\n",
       "       [0.83533087, 0.16466913],\n",
       "       [0.79102478, 0.20897522],\n",
       "       [0.81880047, 0.18119953],\n",
       "       [0.42791387, 0.57208613],\n",
       "       [0.24978539, 0.75021461],\n",
       "       [0.31180195, 0.68819805],\n",
       "       [0.42738138, 0.57261862],\n",
       "       [0.31456977, 0.68543023],\n",
       "       [0.6707977 , 0.3292023 ],\n",
       "       [0.08509461, 0.91490539],\n",
       "       [0.83670052, 0.16329948],\n",
       "       [0.88034435, 0.11965565],\n",
       "       [0.82962078, 0.17037922],\n",
       "       [0.79241302, 0.20758698],\n",
       "       [0.32880577, 0.67119423],\n",
       "       [0.84421734, 0.15578266],\n",
       "       [0.64936392, 0.35063608],\n",
       "       [0.9620972 , 0.0379028 ],\n",
       "       [0.17218868, 0.82781132],\n",
       "       [0.18154261, 0.81845739],\n",
       "       [0.87002156, 0.12997844],\n",
       "       [0.32481948, 0.67518052],\n",
       "       [0.69747682, 0.30252318],\n",
       "       [0.06288834, 0.93711166],\n",
       "       [0.85273385, 0.14726615],\n",
       "       [0.83260248, 0.16739752],\n",
       "       [0.8792588 , 0.1207412 ],\n",
       "       [0.14596208, 0.85403792],\n",
       "       [0.8180484 , 0.1819516 ],\n",
       "       [0.86402921, 0.13597079],\n",
       "       [0.31198199, 0.68801801],\n",
       "       [0.07073655, 0.92926345],\n",
       "       [0.34383362, 0.65616638],\n",
       "       [0.36707543, 0.63292457],\n",
       "       [0.06762132, 0.93237868],\n",
       "       [0.48794405, 0.51205595],\n",
       "       [0.51318747, 0.48681253],\n",
       "       [0.83670052, 0.16329948],\n",
       "       [0.58256984, 0.41743016],\n",
       "       [0.74311895, 0.25688105],\n",
       "       [0.85387068, 0.14612932],\n",
       "       [0.81879827, 0.18120173],\n",
       "       [0.84262882, 0.15737118],\n",
       "       [0.11025914, 0.88974086],\n",
       "       [0.55623737, 0.44376263],\n",
       "       [0.76511762, 0.23488238],\n",
       "       [0.30260819, 0.69739181],\n",
       "       [0.83698084, 0.16301916],\n",
       "       [0.63412148, 0.36587852],\n",
       "       [0.28834792, 0.71165208],\n",
       "       [0.07294372, 0.92705628],\n",
       "       [0.83463356, 0.16536644],\n",
       "       [0.8180484 , 0.1819516 ],\n",
       "       [0.87347972, 0.12652028],\n",
       "       [0.58761322, 0.41238678],\n",
       "       [0.06530226, 0.93469774],\n",
       "       [0.87467078, 0.12532922],\n",
       "       [0.6227598 , 0.3772402 ]])"
      ]
     },
     "execution_count": 18,
     "metadata": {},
     "output_type": "execute_result"
    }
   ],
   "source": [
    "model.predict_proba(x_test_array)"
   ]
  },
  {
   "cell_type": "code",
   "execution_count": 19,
   "metadata": {},
   "outputs": [],
   "source": [
    "np.savetxt(\"titanic_prediction.csv\", y_predict, fmt = (\"%.0f\"))"
   ]
  },
  {
   "cell_type": "code",
   "execution_count": null,
   "metadata": {},
   "outputs": [],
   "source": []
  }
 ],
 "metadata": {
  "kernelspec": {
   "display_name": "Python 3",
   "language": "python",
   "name": "python3"
  },
  "language_info": {
   "codemirror_mode": {
    "name": "ipython",
    "version": 3
   },
   "file_extension": ".py",
   "mimetype": "text/x-python",
   "name": "python",
   "nbconvert_exporter": "python",
   "pygments_lexer": "ipython3",
   "version": "3.8.5"
  }
 },
 "nbformat": 4,
 "nbformat_minor": 4
}
